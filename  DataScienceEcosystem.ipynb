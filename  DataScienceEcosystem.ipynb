{
 "cells": [
  {
   "cell_type": "markdown",
   "id": "7fbde327-58cf-4c19-b080-88c5373163a4",
   "metadata": {},
   "source": [
    "# Data Science Tools and Ecosystem"
   ]
  },
  {
   "cell_type": "markdown",
   "id": "3ddb4af2-39cc-47d8-8758-c991edc6e90f",
   "metadata": {},
   "source": [
    "In this notebook, Data Science Tools and Ecosystem are summarized."
   ]
  },
  {
   "cell_type": "markdown",
   "id": "3ad09c97-1d56-4ccf-970b-db1dad971987",
   "metadata": {},
   "source": [
    "### **Objectives:**\n",
    "\n",
    "- List popular languages for Data Science\n",
    "- Learn basic arithmetic operations in Python\n",
    "- Understand how to convert time units in Python\n",
    "- Explore the use of expressions and operators in Python"
   ]
  },
  {
   "cell_type": "markdown",
   "id": "1cee1035-4843-41e7-8bc1-6c506ac02c3e",
   "metadata": {},
   "source": [
    "Some of the popular languages that Data Scientists use are:\n",
    "1. Python\n",
    "2. R\n",
    "3. SQL"
   ]
  },
  {
   "cell_type": "markdown",
   "id": "2ccf0753-f795-4491-a494-490e4c99ad00",
   "metadata": {},
   "source": [
    "Some of the commonly used libraries used by Data Scientists include:\n",
    "1. Pandas\n",
    "2. NumPy\n",
    "3. Matplotlib"
   ]
  },
  {
   "cell_type": "markdown",
   "id": "94a3b86c-3c25-424f-9fe7-c62b5d8d27e9",
   "metadata": {},
   "source": [
    "| Data Science Tools  |\n",
    "|:--------------------|\n",
    "| Jupyter Notebook  |\n",
    "| RStudio          |\n",
    "| Spyder           |\n"
   ]
  },
  {
   "cell_type": "markdown",
   "id": "54e529f7-f099-481e-936a-feba99835623",
   "metadata": {},
   "source": [
    "### Below are a few examples of evaluating arithmetic expressions in Python"
   ]
  },
  {
   "cell_type": "code",
   "execution_count": 4,
   "id": "922959a4-7ea5-44f4-a073-28458f977218",
   "metadata": {},
   "outputs": [
    {
     "data": {
      "text/plain": [
       "17"
      ]
     },
     "execution_count": 4,
     "metadata": {},
     "output_type": "execute_result"
    }
   ],
   "source": [
    "# This is a simple arithmetic expression to multiply then add integers\n",
    "(3 * 4) + 5"
   ]
  },
  {
   "cell_type": "code",
   "execution_count": 5,
   "id": "7b4c6d73-d54d-4eb2-a531-46f16dc967c2",
   "metadata": {},
   "outputs": [
    {
     "data": {
      "text/plain": [
       "3.3333333333333335"
      ]
     },
     "execution_count": 5,
     "metadata": {},
     "output_type": "execute_result"
    }
   ],
   "source": [
    "# This will convert 200 minutes to hours by dividing by 60\n",
    "200 / 60"
   ]
  },
  {
   "cell_type": "markdown",
   "id": "f1c085ae-a93a-4229-bfa4-f88a23861dfe",
   "metadata": {},
   "source": [
    "### **Objectives:**\n",
    "\n",
    "- List popular languages for Data Science\n",
    "- Introduction to R and RStudio\n",
    "- Introduction to Python and its applications\n",
    "- Introduction to Git and GitHub"
   ]
  },
  {
   "cell_type": "markdown",
   "id": "62e9d71a-678b-4cd3-a4be-9e11d39520fb",
   "metadata": {},
   "source": [
    "## Author\n",
    "\n",
    "Name"
   ]
  },
  {
   "cell_type": "code",
   "execution_count": null,
   "id": "fc2b4526-f6fb-4335-86ca-29fc9bf712b6",
   "metadata": {},
   "outputs": [],
   "source": []
  }
 ],
 "metadata": {
  "kernelspec": {
   "display_name": "Python 3 (ipykernel)",
   "language": "python",
   "name": "python3"
  },
  "language_info": {
   "codemirror_mode": {
    "name": "ipython",
    "version": 3
   },
   "file_extension": ".py",
   "mimetype": "text/x-python",
   "name": "python",
   "nbconvert_exporter": "python",
   "pygments_lexer": "ipython3",
   "version": "3.12.3"
  }
 },
 "nbformat": 4,
 "nbformat_minor": 5
}
